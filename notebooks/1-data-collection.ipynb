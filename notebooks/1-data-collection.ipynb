{
 "cells": [
  {
   "cell_type": "code",
   "execution_count": null,
   "id": "7c876f9c-69b6-4b66-a4ac-5ce1371f6db2",
   "metadata": {},
   "outputs": [],
   "source": []
  },
  {
   "cell_type": "markdown",
   "id": "30c170d5-461c-4ba9-bcbb-09a5ada9b349",
   "metadata": {},
   "source": [
    "# Data Collection Notebook\n",
    "## Objectives\n",
    "Fetch data from Kaggle and save it as raw data.\n",
    "Inspect the data and save it under outputs/datasets/collection\n",
    "## Inputs\n",
    "Kaggle JSON file - the authentication token.\n",
    "## Outputs\n",
    "Generate Dataset: outputs/datasets/collection/HousePrices.csv\n"
   ]
  },
  {
   "cell_type": "code",
   "execution_count": 2,
   "id": "949fe26e-cb87-4609-80a9-ecaf30112a36",
   "metadata": {},
   "outputs": [],
   "source": [
    "%matplotlib inline"
   ]
  },
  {
   "cell_type": "markdown",
   "id": "d0669e04-6d87-4268-8e97-e6b71c5013c1",
   "metadata": {},
   "source": [
    "# Change working directory\n",
    "\n",
    "We need to change the working directory from its current folder to its parent folder\n",
    "\n"
   ]
  },
  {
   "cell_type": "code",
   "execution_count": 3,
   "id": "7f19003b-ccc5-432d-b59a-0da039c16c48",
   "metadata": {},
   "outputs": [
    {
     "data": {
      "text/plain": [
       "'/Users/allaafaham/Library/Mobile Documents/com~apple~CloudDocs/cursor projects/house-prices/notebooks'"
      ]
     },
     "execution_count": 3,
     "metadata": {},
     "output_type": "execute_result"
    }
   ],
   "source": [
    "import os\n",
    "current_dir = os.getcwd()\n",
    "current_dir"
   ]
  },
  {
   "cell_type": "markdown",
   "id": "4d6678fb-3439-4159-80f5-61f6699339e5",
   "metadata": {},
   "source": [
    "We want to make the parent of the current directory the new current directory\n",
    "\n"
   ]
  },
  {
   "cell_type": "code",
   "execution_count": 4,
   "id": "9b5b11f6-d5e5-4161-a7e2-640dce5d64fa",
   "metadata": {},
   "outputs": [
    {
     "name": "stdout",
     "output_type": "stream",
     "text": [
      "You set a new current directory\n"
     ]
    }
   ],
   "source": [
    "os.chdir(os.path.dirname(current_dir))\n",
    "print(\"You set a new current directory\")"
   ]
  },
  {
   "cell_type": "markdown",
   "id": "6eb4e541-2a39-4f33-8e09-6fa07303becc",
   "metadata": {},
   "source": [
    "Confirm the new current directory\n",
    "\n"
   ]
  },
  {
   "cell_type": "code",
   "execution_count": 5,
   "id": "d9c17fdf-113c-4e5c-8d44-8295d01c018b",
   "metadata": {},
   "outputs": [
    {
     "data": {
      "text/plain": [
       "'/Users/allaafaham/Library/Mobile Documents/com~apple~CloudDocs/cursor projects/house-prices'"
      ]
     },
     "execution_count": 5,
     "metadata": {},
     "output_type": "execute_result"
    }
   ],
   "source": [
    "current_dir = os.getcwd()\n",
    "current_dir"
   ]
  },
  {
   "cell_type": "markdown",
   "id": "27de5ac4-4abc-47d2-a774-475a8fc239fb",
   "metadata": {},
   "source": [
    "## Fetch data from Kaggle"
   ]
  },
  {
   "cell_type": "code",
   "execution_count": 4,
   "id": "e910b493-a8c2-4028-9a6a-e0d7e811a3a7",
   "metadata": {},
   "outputs": [],
   "source": [
    "import os\n",
    "os.environ['KAGGLE_CONFIG_DIR'] = os.getcwd()\n",
    "! chmod 600 kaggle.json"
   ]
  },
  {
   "cell_type": "code",
   "execution_count": 5,
   "id": "75806ad8-d356-49ce-9b16-8301fb6e2895",
   "metadata": {},
   "outputs": [
    {
     "name": "stdout",
     "output_type": "stream",
     "text": [
      "housing-prices-data.zip: Skipping, found more recently modified local copy (use --force to force download)\n"
     ]
    }
   ],
   "source": [
    "KaggleDatasetPath = \"codeinstitute/housing-prices-data\"\n",
    "DestinationFolder = \"inputs/datasets/raw\"   \n",
    "! kaggle datasets download -d {KaggleDatasetPath} -p {DestinationFolder}"
   ]
  },
  {
   "cell_type": "code",
   "execution_count": 6,
   "id": "477a7f9c-6503-49cf-ac2a-e1d8c515b338",
   "metadata": {
    "scrolled": true
   },
   "outputs": [
    {
     "name": "stdout",
     "output_type": "stream",
     "text": [
      "Archive:  inputs/datasets/raw/housing-prices-data.zip\n",
      "replace inputs/datasets/raw/house-metadata.txt? [y]es, [n]o, [A]ll, [N]one, [r]ename: ^C\n"
     ]
    }
   ],
   "source": [
    "! unzip {DestinationFolder}/*.zip -d {DestinationFolder} \\\n",
    "  && rm {DestinationFolder}/*.zip \\\n",
    "  && rm kaggle.json"
   ]
  },
  {
   "cell_type": "markdown",
   "id": "1e387310-a164-46ce-952d-52f461aec327",
   "metadata": {},
   "source": [
    "### 🔍 Data Loading and Initial Inspection\n",
    "\n",
    "In this cell, we import the necessary libraries for data analysis and visualization, including `pandas`, `numpy`, `matplotlib`, `seaborn`, and `plotly`.  \n",
    "We also apply basic styling for `matplotlib` and `seaborn` visualizations to improve readability.  \n",
    "Then, we load the **house prices dataset** from a CSV file and display its shape and basic information to understand its structure and data types.\n"
   ]
  },
  {
   "cell_type": "code",
   "execution_count": 6,
   "id": "f5dd012a-b5ab-4822-b9db-7987abc26d0e",
   "metadata": {},
   "outputs": [
    {
     "name": "stdout",
     "output_type": "stream",
     "text": [
      "Dataset Shape: (1460, 24)\n",
      "\n",
      "Dataset Info:\n",
      "<class 'pandas.core.frame.DataFrame'>\n",
      "RangeIndex: 1460 entries, 0 to 1459\n",
      "Data columns (total 24 columns):\n",
      " #   Column         Non-Null Count  Dtype  \n",
      "---  ------         --------------  -----  \n",
      " 0   1stFlrSF       1460 non-null   int64  \n",
      " 1   2ndFlrSF       1374 non-null   float64\n",
      " 2   BedroomAbvGr   1361 non-null   float64\n",
      " 3   BsmtExposure   1422 non-null   object \n",
      " 4   BsmtFinSF1     1460 non-null   int64  \n",
      " 5   BsmtFinType1   1315 non-null   object \n",
      " 6   BsmtUnfSF      1460 non-null   int64  \n",
      " 7   EnclosedPorch  136 non-null    float64\n",
      " 8   GarageArea     1460 non-null   int64  \n",
      " 9   GarageFinish   1225 non-null   object \n",
      " 10  GarageYrBlt    1379 non-null   float64\n",
      " 11  GrLivArea      1460 non-null   int64  \n",
      " 12  KitchenQual    1460 non-null   object \n",
      " 13  LotArea        1460 non-null   int64  \n",
      " 14  LotFrontage    1201 non-null   float64\n",
      " 15  MasVnrArea     1452 non-null   float64\n",
      " 16  OpenPorchSF    1460 non-null   int64  \n",
      " 17  OverallCond    1460 non-null   int64  \n",
      " 18  OverallQual    1460 non-null   int64  \n",
      " 19  TotalBsmtSF    1460 non-null   int64  \n",
      " 20  WoodDeckSF     155 non-null    float64\n",
      " 21  YearBuilt      1460 non-null   int64  \n",
      " 22  YearRemodAdd   1460 non-null   int64  \n",
      " 23  SalePrice      1460 non-null   int64  \n",
      "dtypes: float64(7), int64(13), object(4)\n",
      "memory usage: 273.9+ KB\n"
     ]
    }
   ],
   "source": [
    "import pandas as pd\n",
    "import numpy as np\n",
    "import matplotlib.pyplot as plt\n",
    "import seaborn as sns\n",
    "import plotly.express as px\n",
    "import plotly.graph_objects as go\n",
    "from plotly.subplots import make_subplots\n",
    "\n",
    "# Set style for better visualizations\n",
    "plt.style.use('seaborn-v0_8')\n",
    "sns.set_theme(style=\"whitegrid\")\n",
    "\n",
    "\n",
    "# Read the dataset\n",
    "df = pd.read_csv(\"inputs/datasets/raw/house_prices_records.csv\")\n",
    "\n",
    "# Display basic information\n",
    "print(\"Dataset Shape:\", df.shape)\n",
    "print(\"\\nDataset Info:\")\n",
    "df.shape\n",
    "df.info()\n",
    "\n",
    "\n"
   ]
  },
  {
   "cell_type": "markdown",
   "id": "ec87b15a-3f72-49ee-899b-985842a9e93a",
   "metadata": {},
   "source": [
    "### 📊 Sale Price Distribution\n",
    "\n",
    "This cell creates a histogram of the `SalePrice` column using Seaborn's `histplot` with a kernel density estimate (KDE) overlay.  \n",
    "It helps visualize the distribution of house prices and detect skewness or outliers in the target variable.\n"
   ]
  },
  {
   "cell_type": "code",
   "execution_count": 7,
   "id": "26b2672d-69d0-44b8-939f-dae3c131b976",
   "metadata": {},
   "outputs": [
    {
     "data": {
      "image/png": "[encoded data removed]",
      "text/plain": [
       "<Figure size 800x550 with 1 Axes>"
      ]
     },
     "metadata": {},
     "output_type": "display_data"
    }
   ],
   "source": [
    "sns.histplot(df['SalePrice'], kde=True)\n",
    "plt.title('Sale Price Distribution')\n",
    "plt.show()"
   ]
  },
  {
   "cell_type": "markdown",
   "id": "92069e0c-4e11-42f3-a957-60285cc07c46",
   "metadata": {},
   "source": [
    "### Save a Copy of Dataset\n",
    "\n",
    "Creates a new directory (`outputs/datasets/collection`) if it doesn't already exist, and save the loaded dataset as a CSV file in that location.  \n",
    "This ensures we have a reusable copy of the original data for further processing or sharing.\n"
   ]
  },
  {
   "cell_type": "code",
   "execution_count": 8,
   "id": "e24a2e65-8d20-44a5-8132-1a86ffe470c8",
   "metadata": {},
   "outputs": [
    {
     "name": "stdout",
     "output_type": "stream",
     "text": [
      "[Errno 17] File exists: 'outputs/datasets/collection'\n"
     ]
    }
   ],
   "source": [
    "import os\n",
    "try:\n",
    "  os.makedirs(name='outputs/datasets/collection') # create an output folder\n",
    "except Exception as e:\n",
    "  print(e)\n",
    "\n",
    "df.to_csv(f\"outputs/datasets/collection/house_prices_records.csv\",index=False)"
   ]
  },
  {
   "cell_type": "markdown",
   "id": "58b4cbd3-5baa-47e6-ab6d-3a16bc6f6dae",
   "metadata": {},
   "source": [
    "## Dataset Summary\n",
    "\n",
    "- The dataset contains **1,460 rows** and **24 features**. A manageable dataset size for a regression problem.\n",
    "\n",
    "### Missing Values\n",
    "\n",
    "| Feature         | Missing Count | % Missing |\n",
    "|-----------------|----------------|------------|\n",
    "| EnclosedPorch   | 1324           | 90.68%     |\n",
    "| WoodDeckSF      | 1305           | 89.38%     |\n",
    "| LotFrontage     | 259            | 17.74%     |\n",
    "| GarageFinish    | 235            | 16.10%     |\n",
    "| BsmtFinType1    | 145            | 9.93%      |\n",
    "| BedroomAbvGr    | 99             | 6.78%      |\n",
    "| 2ndFlrSF        | 86             | 5.89%      |\n",
    "| GarageYrBlt     | 81             | 5.55%      |\n",
    "| BsmtExposure    | 38             | 2.60%      |\n",
    "| MasVnrArea      | 8              | 0.55%      |\n",
    "\n",
    "### Key Observations\n",
    "\n",
    "- **EnclosedPorch** and **WoodDeckSF** have over 85% missing values → likely not useful, dropping will be considered.\n",
    "- **LotFrontage**, **GarageFinish**, and **BsmtFinType1** show moderate missingness → imputation or further investigation.\n",
    "- Remaining features have minimal missingness → can likely be handled with simple imputation (e.g., median or mode or non existent).\n",
    "\n",
    "### Data Types\n",
    "\n",
    "- The dataset contains a **mix of numerical and categorical features**.\n",
    "- **Categorical examples**: `GarageFinish`, `BsmtExposure`, `BsmtFinType1`, `KitchenQual`.\n",
    "- **Target variable**: `SalePrice` → numerical, appropriate for regression tasks.\n"
   ]
  },
  {
   "cell_type": "markdown",
   "id": "e8d255fa-ce21-4a63-a5a3-6fe67431ef02",
   "metadata": {},
   "source": [
    "## Conclusion\n",
    "\n",
    "In this phase, we successfully uploaded the dataset and conducted an initial inspection of its structure. We examined the number of variables and gained a general understanding of the data's content and format. This provides a solid foundation for the next steps in our data science workflow.\n",
    "\n",
    "## Next Steps\n",
    "\n",
    "- Perform exploratory data analysis (EDA) to better understand distributions and relationships.\n",
    "- Identify correlations and patterns between variables.\n",
    "- Select relevant variables to focus on for modeling.\n",
    "- Begin feature engineering to enhance the dataset.\n",
    "- Prepare the data for training machine learning models.\n"
   ]
  },
  {
   "cell_type": "code",
   "execution_count": null,
   "id": "28d2b64a-a6d7-4a1c-8ccf-bf7a9c1d0c90",
   "metadata": {},
   "outputs": [],
   "source": []
  }
 ],
 "metadata": {
  "kernelspec": {
   "display_name": "Python 3.11 (house-prices-env)",
   "language": "python",
   "name": "house-prices-env-py311"
  },
  "language_info": {
   "codemirror_mode": {
    "name": "ipython",
    "version": 3
   },
   "file_extension": ".py",
   "mimetype": "text/x-python",
   "name": "python",
   "nbconvert_exporter": "python",
   "pygments_lexer": "ipython3",
   "version": "3.11.13"
  }
 },
 "nbformat": 4,
 "nbformat_minor": 5
}
